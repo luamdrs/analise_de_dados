{
 "cells": [
  {
   "cell_type": "markdown",
   "metadata": {},
   "source": [
    "Gerando um arquivo CSV para Análise Preditiva:"
   ]
  },
  {
   "cell_type": "code",
   "execution_count": 9,
   "metadata": {},
   "outputs": [],
   "source": [
    "import pandas as pd"
   ]
  },
  {
   "cell_type": "code",
   "execution_count": 10,
   "metadata": {},
   "outputs": [],
   "source": [
    "dados_preditiva = {\n",
    "    \"Dia\": [\"Segunda\", \"Terça\", \"Quarta\", \"Quinta\", \"Sexta\", \"Sábado\", \"Domingo\"] * 4,\n",
    "    \"Temperatura\": [30, 32, 31, 29, 28, 27, 26, 30, 31, 32, 29, 28, 27, 26, 30, 32, 31, 29, 28, 27, 26, 30, 32, 31, 29, 28, 27, 26],\n",
    "    \"Chuva\": [0, 0, 0, 1, 1, 1, 1, 0, 0, 0, 1, 1, 1, 1, 0, 0, 0, 1, 1, 1, 1, 0, 0, 0, 1, 1, 1, 1],\n",
    "    \"Vendas\": [200, 210, 190, 180, 170, 160, 150, 210, 220, 200, 190, 180, 170, 160, 210, 220, 210, 200, 190, 180, 170, 220, 230, 210, 200, 190, 180, 170]\n",
    "}"
   ]
  },
  {
   "cell_type": "code",
   "execution_count": 11,
   "metadata": {},
   "outputs": [],
   "source": [
    "df_preditiva = pd.DataFrame(dados_preditiva)"
   ]
  },
  {
   "cell_type": "code",
   "execution_count": 12,
   "metadata": {},
   "outputs": [],
   "source": [
    "path_preditiva = 'clima_vendas.csv'\n",
    "df_preditiva.to_csv(path_preditiva, index=False)"
   ]
  }
 ],
 "metadata": {
  "kernelspec": {
   "display_name": "Python 3",
   "language": "python",
   "name": "python3"
  },
  "language_info": {
   "codemirror_mode": {
    "name": "ipython",
    "version": 3
   },
   "file_extension": ".py",
   "mimetype": "text/x-python",
   "name": "python",
   "nbconvert_exporter": "python",
   "pygments_lexer": "ipython3",
   "version": "3.12.4"
  }
 },
 "nbformat": 4,
 "nbformat_minor": 2
}
