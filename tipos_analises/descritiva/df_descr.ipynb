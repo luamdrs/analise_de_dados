{
 "cells": [
  {
   "cell_type": "markdown",
   "metadata": {},
   "source": [
    "Gerando um arquivo CSV para Análise Descritiva:"
   ]
  },
  {
   "cell_type": "code",
   "execution_count": 1,
   "metadata": {},
   "outputs": [],
   "source": [
    "import pandas as pd"
   ]
  },
  {
   "cell_type": "code",
   "execution_count": 2,
   "metadata": {},
   "outputs": [],
   "source": [
    "dados_descritiva = {\n",
    "    \"Regiao\": [\"Norte\", \"Sul\", \"Leste\", \"Oeste\", \"Norte\", \"Sul\", \"Leste\", \"Oeste\"],\n",
    "    \"Mes\": [\"Janeiro\", \"Janeiro\", \"Janeiro\", \"Janeiro\", \"Fevereiro\", \"Fevereiro\", \"Fevereiro\", \"Fevereiro\"],\n",
    "    \"Vendas\": [15000, 12000, 17000, 11000, 16000, 13000, 17500, 11500]\n",
    "}"
   ]
  },
  {
   "cell_type": "code",
   "execution_count": 3,
   "metadata": {},
   "outputs": [],
   "source": [
    "df_descritiva = pd.DataFrame(dados_descritiva)"
   ]
  },
  {
   "cell_type": "code",
   "execution_count": 4,
   "metadata": {},
   "outputs": [],
   "source": [
    "path_descritiva = \"vendas_regioes.csv\"\n",
    "df_descritiva.to_csv(path_descritiva, index=False)"
   ]
  }
 ],
 "metadata": {
  "kernelspec": {
   "display_name": "Python 3",
   "language": "python",
   "name": "python3"
  },
  "language_info": {
   "codemirror_mode": {
    "name": "ipython",
    "version": 3
   },
   "file_extension": ".py",
   "mimetype": "text/x-python",
   "name": "python",
   "nbconvert_exporter": "python",
   "pygments_lexer": "ipython3",
   "version": "3.12.4"
  }
 },
 "nbformat": 4,
 "nbformat_minor": 2
}
