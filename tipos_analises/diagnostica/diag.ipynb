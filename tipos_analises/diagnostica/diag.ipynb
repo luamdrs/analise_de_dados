{
 "cells": [
  {
   "cell_type": "markdown",
   "metadata": {},
   "source": [
    "## Análise Diagnóstica\n",
    "\n",
    "### Identificando Causas de Baixa Conversão\n",
    "\n",
    "Uma empresa notou que a taxa de conversão do site caiu nos últimos meses. Você recebeu um conjunto de dados com informações sobre acessos ao site, taxa de conversão, origem dos acessos e a presença de campanhas promocionais.\n",
    "\n",
    "**Objetivo:**\n",
    "\n",
    "* Descobrir se as campanhas promocionais influenciam na conversão.\n",
    "* Analisar a relação entre origem dos acessos e taxa de conversão.\n",
    "* Escrever as conclusões."
   ]
  },
  {
   "cell_type": "code",
   "execution_count": 63,
   "metadata": {},
   "outputs": [],
   "source": [
    "import pandas as pd\n",
    "import matplotlib.pyplot as plt"
   ]
  },
  {
   "cell_type": "markdown",
   "metadata": {},
   "source": [
    "Passo 1: Importando o arquivo CSV"
   ]
  },
  {
   "cell_type": "code",
   "execution_count": 64,
   "metadata": {},
   "outputs": [],
   "source": [
    "df = pd.read_csv('conversao_site.csv')"
   ]
  },
  {
   "cell_type": "markdown",
   "metadata": {},
   "source": [
    "Passo 2: Adicionando uma nova coluna para a taxa de conversão (%)"
   ]
  },
  {
   "cell_type": "code",
   "execution_count": 65,
   "metadata": {},
   "outputs": [
    {
     "data": {
      "text/html": [
       "<div>\n",
       "<style scoped>\n",
       "    .dataframe tbody tr th:only-of-type {\n",
       "        vertical-align: middle;\n",
       "    }\n",
       "\n",
       "    .dataframe tbody tr th {\n",
       "        vertical-align: top;\n",
       "    }\n",
       "\n",
       "    .dataframe thead th {\n",
       "        text-align: right;\n",
       "    }\n",
       "</style>\n",
       "<table border=\"1\" class=\"dataframe\">\n",
       "  <thead>\n",
       "    <tr style=\"text-align: right;\">\n",
       "      <th></th>\n",
       "      <th>Mes</th>\n",
       "      <th>Acessos</th>\n",
       "      <th>Conversoes</th>\n",
       "      <th>Origem</th>\n",
       "      <th>Promocao</th>\n",
       "      <th>Taxa_Conversao</th>\n",
       "    </tr>\n",
       "  </thead>\n",
       "  <tbody>\n",
       "    <tr>\n",
       "      <th>0</th>\n",
       "      <td>Janeiro</td>\n",
       "      <td>5000</td>\n",
       "      <td>250</td>\n",
       "      <td>Orgânico</td>\n",
       "      <td>1</td>\n",
       "      <td>5.000000</td>\n",
       "    </tr>\n",
       "    <tr>\n",
       "      <th>1</th>\n",
       "      <td>Fevereiro</td>\n",
       "      <td>4500</td>\n",
       "      <td>200</td>\n",
       "      <td>Pago</td>\n",
       "      <td>0</td>\n",
       "      <td>4.444444</td>\n",
       "    </tr>\n",
       "    <tr>\n",
       "      <th>2</th>\n",
       "      <td>Março</td>\n",
       "      <td>4000</td>\n",
       "      <td>150</td>\n",
       "      <td>Orgânico</td>\n",
       "      <td>1</td>\n",
       "      <td>3.750000</td>\n",
       "    </tr>\n",
       "    <tr>\n",
       "      <th>3</th>\n",
       "      <td>Abril</td>\n",
       "      <td>4800</td>\n",
       "      <td>240</td>\n",
       "      <td>Direto</td>\n",
       "      <td>0</td>\n",
       "      <td>5.000000</td>\n",
       "    </tr>\n",
       "    <tr>\n",
       "      <th>4</th>\n",
       "      <td>Maio</td>\n",
       "      <td>5300</td>\n",
       "      <td>260</td>\n",
       "      <td>Orgânico</td>\n",
       "      <td>1</td>\n",
       "      <td>4.905660</td>\n",
       "    </tr>\n",
       "    <tr>\n",
       "      <th>5</th>\n",
       "      <td>Junho</td>\n",
       "      <td>4700</td>\n",
       "      <td>230</td>\n",
       "      <td>Pago</td>\n",
       "      <td>1</td>\n",
       "      <td>4.893617</td>\n",
       "    </tr>\n",
       "    <tr>\n",
       "      <th>6</th>\n",
       "      <td>Julho</td>\n",
       "      <td>4900</td>\n",
       "      <td>240</td>\n",
       "      <td>Direto</td>\n",
       "      <td>0</td>\n",
       "      <td>4.897959</td>\n",
       "    </tr>\n",
       "    <tr>\n",
       "      <th>7</th>\n",
       "      <td>Agosto</td>\n",
       "      <td>4600</td>\n",
       "      <td>220</td>\n",
       "      <td>Pago</td>\n",
       "      <td>1</td>\n",
       "      <td>4.782609</td>\n",
       "    </tr>\n",
       "  </tbody>\n",
       "</table>\n",
       "</div>"
      ],
      "text/plain": [
       "         Mes  Acessos  Conversoes    Origem  Promocao  Taxa_Conversao\n",
       "0    Janeiro     5000         250  Orgânico         1        5.000000\n",
       "1  Fevereiro     4500         200      Pago         0        4.444444\n",
       "2      Março     4000         150  Orgânico         1        3.750000\n",
       "3      Abril     4800         240    Direto         0        5.000000\n",
       "4       Maio     5300         260  Orgânico         1        4.905660\n",
       "5      Junho     4700         230      Pago         1        4.893617\n",
       "6      Julho     4900         240    Direto         0        4.897959\n",
       "7     Agosto     4600         220      Pago         1        4.782609"
      ]
     },
     "execution_count": 65,
     "metadata": {},
     "output_type": "execute_result"
    }
   ],
   "source": [
    "df['Taxa_Conversao'] = (df['Conversoes'] / df['Acessos']) * 100\n",
    "df"
   ]
  },
  {
   "cell_type": "markdown",
   "metadata": {},
   "source": [
    "Passo 3: Analisando a influência das campanhas promocionais"
   ]
  },
  {
   "cell_type": "code",
   "execution_count": 66,
   "metadata": {},
   "outputs": [
    {
     "name": "stdout",
     "output_type": "stream",
     "text": [
      "Taxa média de conversão com promoção: 4.67%\n",
      "Taxa média de conversão sem promoção: 4.78%\n"
     ]
    }
   ],
   "source": [
    "taxa_promocao = df[df['Promocao'] == 1]['Taxa_Conversao'].mean()\n",
    "taxa_sem_promocao = df[df['Promocao'] == 0]['Taxa_Conversao'].mean()\n",
    "print(f'Taxa média de conversão com promoção: {taxa_promocao:.2f}%')\n",
    "print(f'Taxa média de conversão sem promoção: {taxa_sem_promocao:.2f}%')"
   ]
  },
  {
   "cell_type": "markdown",
   "metadata": {},
   "source": [
    "Passo 4: Analisando a relação entre origem dos acessos e taxa de conversão"
   ]
  },
  {
   "cell_type": "code",
   "execution_count": 67,
   "metadata": {},
   "outputs": [
    {
     "name": "stdout",
     "output_type": "stream",
     "text": [
      "\n",
      "Taxa média de conversão por origem dos acessos:\n"
     ]
    },
    {
     "data": {
      "text/plain": [
       "Origem\n",
       "Direto      4.948980\n",
       "Orgânico    4.551887\n",
       "Pago        4.706890\n",
       "Name: Taxa_Conversao, dtype: float64"
      ]
     },
     "execution_count": 67,
     "metadata": {},
     "output_type": "execute_result"
    }
   ],
   "source": [
    "taxa_por_origem = df.groupby('Origem')['Taxa_Conversao'].mean()\n",
    "print('\\nTaxa média de conversão por origem dos acessos:')\n",
    "\n",
    "taxa_por_origem"
   ]
  },
  {
   "cell_type": "markdown",
   "metadata": {},
   "source": [
    "Passo 5: Gráfico das taxas de conversão por origem"
   ]
  },
  {
   "cell_type": "code",
   "execution_count": 68,
   "metadata": {},
   "outputs": [
    {
     "data": {
      "image/png": "[encoded data removed]",
      "text/plain": [
       "<Figure size 800x600 with 1 Axes>"
      ]
     },
     "metadata": {},
     "output_type": "display_data"
    }
   ],
   "source": [
    "taxa_por_origem.plot(kind='bar', color='#C8A0CF', figsize=(8,6))\n",
    "plt.title('Taxa Média de Conversão por Origem')\n",
    "plt.xlabel('Origem')\n",
    "plt.ylabel('Taxa de Conversão (%)')\n",
    "plt.xticks(rotation=45)\n",
    "plt.tight_layout()\n",
    "plt.show()"
   ]
  },
  {
   "cell_type": "markdown",
   "metadata": {},
   "source": [
    "Passo 6: Conclusões"
   ]
  },
  {
   "cell_type": "markdown",
   "metadata": {},
   "source": [
    "**Conclusões:**"
   ]
  },
  {
   "cell_type": "code",
   "execution_count": 69,
   "metadata": {},
   "outputs": [
    {
     "name": "stdout",
     "output_type": "stream",
     "text": [
      "- Com promoções, a taxa média de conversão foi de 4.67%.\n",
      "- Sem promoções, a taxa média de conversão foi de 4.78%.\n",
      "- Promoções parecem melhorar a taxa de conversão.\n",
      "\n",
      "Taxa média de conversão por origem dos acessos:\n",
      " * Direto: 4.95%\n",
      " * Orgânico: 4.55%\n",
      " * Pago: 4.71%\n",
      "- A origem \"Direto\" tem uma taxa de conversão maior comparada às demais, o que pode indicar que visitantes diretos têm maior intenção de compra.\n"
     ]
    }
   ],
   "source": [
    "print(f'- Com promoções, a taxa média de conversão foi de {taxa_promocao:.2f}%.')\n",
    "print(f'- Sem promoções, a taxa média de conversão foi de {taxa_sem_promocao:.2f}%.')\n",
    "print('- Promoções parecem melhorar a taxa de conversão.')\n",
    "print('\\nTaxa média de conversão por origem dos acessos:')\n",
    "for origem, taxa in taxa_por_origem.items():\n",
    "    print(f' * {origem}: {taxa:.2f}%')\n",
    "print('- A origem \"Direto\" tem uma taxa de conversão maior comparada às demais, o que pode indicar que visitantes diretos têm maior intenção de compra.')"
   ]
  }
 ],
 "metadata": {
  "kernelspec": {
   "display_name": "Python 3",
   "language": "python",
   "name": "python3"
  },
  "language_info": {
   "codemirror_mode": {
    "name": "ipython",
    "version": 3
   },
   "file_extension": ".py",
   "mimetype": "text/x-python",
   "name": "python",
   "nbconvert_exporter": "python",
   "pygments_lexer": "ipython3",
   "version": "3.12.4"
  }
 },
 "nbformat": 4,
 "nbformat_minor": 2
}
