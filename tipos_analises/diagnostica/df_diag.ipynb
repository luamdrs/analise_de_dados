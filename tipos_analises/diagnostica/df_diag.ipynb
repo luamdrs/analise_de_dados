{
 "cells": [
  {
   "cell_type": "markdown",
   "metadata": {},
   "source": [
    "Gerando um arquivo CSV para Análise Diagnóstica:"
   ]
  },
  {
   "cell_type": "code",
   "execution_count": 8,
   "metadata": {},
   "outputs": [],
   "source": [
    "import pandas as pd"
   ]
  },
  {
   "cell_type": "code",
   "execution_count": 9,
   "metadata": {},
   "outputs": [],
   "source": [
    "dados_diagnostica = {\n",
    "    \"Mes\": [\"Janeiro\", \"Fevereiro\", \"Março\", \"Abril\", \"Maio\", \"Junho\", \"Julho\", \"Agosto\"],\n",
    "    \"Acessos\": [5000, 4500, 4000, 4800, 5300, 4700, 4900, 4600],\n",
    "    \"Conversoes\": [250, 200, 150, 240, 260, 230, 240, 220],\n",
    "    \"Origem\": [\"Orgânico\", \"Pago\", \"Orgânico\", \"Direto\", \"Orgânico\", \"Pago\", \"Direto\", \"Pago\"],\n",
    "    \"Promocao\": [1, 0, 1, 0, 1, 1, 0, 1]\n",
    "}"
   ]
  },
  {
   "cell_type": "code",
   "execution_count": 10,
   "metadata": {},
   "outputs": [
    {
     "data": {
      "text/html": [
       "<div>\n",
       "<style scoped>\n",
       "    .dataframe tbody tr th:only-of-type {\n",
       "        vertical-align: middle;\n",
       "    }\n",
       "\n",
       "    .dataframe tbody tr th {\n",
       "        vertical-align: top;\n",
       "    }\n",
       "\n",
       "    .dataframe thead th {\n",
       "        text-align: right;\n",
       "    }\n",
       "</style>\n",
       "<table border=\"1\" class=\"dataframe\">\n",
       "  <thead>\n",
       "    <tr style=\"text-align: right;\">\n",
       "      <th></th>\n",
       "      <th>Mes</th>\n",
       "      <th>Acessos</th>\n",
       "      <th>Conversoes</th>\n",
       "      <th>Origem</th>\n",
       "      <th>Promocao</th>\n",
       "    </tr>\n",
       "  </thead>\n",
       "  <tbody>\n",
       "    <tr>\n",
       "      <th>0</th>\n",
       "      <td>Janeiro</td>\n",
       "      <td>5000</td>\n",
       "      <td>250</td>\n",
       "      <td>Orgânico</td>\n",
       "      <td>1</td>\n",
       "    </tr>\n",
       "    <tr>\n",
       "      <th>1</th>\n",
       "      <td>Fevereiro</td>\n",
       "      <td>4500</td>\n",
       "      <td>200</td>\n",
       "      <td>Pago</td>\n",
       "      <td>0</td>\n",
       "    </tr>\n",
       "    <tr>\n",
       "      <th>2</th>\n",
       "      <td>Março</td>\n",
       "      <td>4000</td>\n",
       "      <td>150</td>\n",
       "      <td>Orgânico</td>\n",
       "      <td>1</td>\n",
       "    </tr>\n",
       "    <tr>\n",
       "      <th>3</th>\n",
       "      <td>Abril</td>\n",
       "      <td>4800</td>\n",
       "      <td>240</td>\n",
       "      <td>Direto</td>\n",
       "      <td>0</td>\n",
       "    </tr>\n",
       "    <tr>\n",
       "      <th>4</th>\n",
       "      <td>Maio</td>\n",
       "      <td>5300</td>\n",
       "      <td>260</td>\n",
       "      <td>Orgânico</td>\n",
       "      <td>1</td>\n",
       "    </tr>\n",
       "    <tr>\n",
       "      <th>5</th>\n",
       "      <td>Junho</td>\n",
       "      <td>4700</td>\n",
       "      <td>230</td>\n",
       "      <td>Pago</td>\n",
       "      <td>1</td>\n",
       "    </tr>\n",
       "    <tr>\n",
       "      <th>6</th>\n",
       "      <td>Julho</td>\n",
       "      <td>4900</td>\n",
       "      <td>240</td>\n",
       "      <td>Direto</td>\n",
       "      <td>0</td>\n",
       "    </tr>\n",
       "    <tr>\n",
       "      <th>7</th>\n",
       "      <td>Agosto</td>\n",
       "      <td>4600</td>\n",
       "      <td>220</td>\n",
       "      <td>Pago</td>\n",
       "      <td>1</td>\n",
       "    </tr>\n",
       "  </tbody>\n",
       "</table>\n",
       "</div>"
      ],
      "text/plain": [
       "         Mes  Acessos  Conversoes    Origem  Promocao\n",
       "0    Janeiro     5000         250  Orgânico         1\n",
       "1  Fevereiro     4500         200      Pago         0\n",
       "2      Março     4000         150  Orgânico         1\n",
       "3      Abril     4800         240    Direto         0\n",
       "4       Maio     5300         260  Orgânico         1\n",
       "5      Junho     4700         230      Pago         1\n",
       "6      Julho     4900         240    Direto         0\n",
       "7     Agosto     4600         220      Pago         1"
      ]
     },
     "execution_count": 10,
     "metadata": {},
     "output_type": "execute_result"
    }
   ],
   "source": [
    "df_diagnostica = pd.DataFrame(dados_diagnostica)\n",
    "\n",
    "df_diagnostica"
   ]
  },
  {
   "cell_type": "code",
   "execution_count": 11,
   "metadata": {},
   "outputs": [],
   "source": [
    "path_diagnostica = 'conversao_site.csv'\n",
    "df_diagnostica.to_csv(path_diagnostica, index=False)"
   ]
  }
 ],
 "metadata": {
  "kernelspec": {
   "display_name": "Python 3",
   "language": "python",
   "name": "python3"
  },
  "language_info": {
   "codemirror_mode": {
    "name": "ipython",
    "version": 3
   },
   "file_extension": ".py",
   "mimetype": "text/x-python",
   "name": "python",
   "nbconvert_exporter": "python",
   "pygments_lexer": "ipython3",
   "version": "3.12.4"
  }
 },
 "nbformat": 4,
 "nbformat_minor": 2
}
