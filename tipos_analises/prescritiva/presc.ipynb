{
 "cells": [
  {
   "cell_type": "markdown",
   "metadata": {},
   "source": [
    "## Análise Prescritiva\n",
    "\n",
    "### Otimizando Estoque\n",
    "\n",
    "Uma loja quer otimizar seu estoque para reduzir custos e evitar falta de produtos. Você recebeu dados com as vendas previstas (obtidas pela análise preditiva) e os custos de manter o estoque.\n",
    "\n",
    "**Objetivo:**\n",
    "\n",
    "* Calcular o estoque necessário para atender à previsão de vendas.\n",
    "* Simular dois cenários:\n",
    "  * Estoque igual à previsão de vendas.\n",
    "  * Estoque com 10% a mais do que o previsto (para margem de segurança).\n",
    "* Determine qual cenário é mais vantajoso considerando o custo do estoque."
   ]
  },
  {
   "cell_type": "code",
   "execution_count": 46,
   "metadata": {},
   "outputs": [],
   "source": [
    "import pandas as pd"
   ]
  },
  {
   "cell_type": "markdown",
   "metadata": {},
   "source": [
    "Passo 1: Importar o arquivo CSV"
   ]
  },
  {
   "cell_type": "code",
   "execution_count": 47,
   "metadata": {},
   "outputs": [],
   "source": [
    "df = pd.read_csv('estoque_otimizacao.csv')"
   ]
  },
  {
   "cell_type": "markdown",
   "metadata": {},
   "source": [
    "Passo 2: Cenário 1 - Estoque igual à previsão de vendas"
   ]
  },
  {
   "cell_type": "code",
   "execution_count": 48,
   "metadata": {},
   "outputs": [],
   "source": [
    "df['Custo_Cenario1'] = df['Previsao_Vendas'] * df['Custo_Estoque']"
   ]
  },
  {
   "cell_type": "markdown",
   "metadata": {},
   "source": [
    "Passo 3: Cenário 2 - Estoque com 10% a mais de margem de segurança"
   ]
  },
  {
   "cell_type": "code",
   "execution_count": 49,
   "metadata": {},
   "outputs": [],
   "source": [
    "df['Estoque_Cenario2'] = df['Previsao_Vendas'] * 1.10\n",
    "df['Custo_Cenario2'] = df['Estoque_Cenario2'] * df['Custo_Estoque']"
   ]
  },
  {
   "cell_type": "markdown",
   "metadata": {},
   "source": [
    "Passo 4: Comparando os custos"
   ]
  },
  {
   "cell_type": "code",
   "execution_count": 50,
   "metadata": {},
   "outputs": [],
   "source": [
    "custo_total_cenario1 = df['Custo_Cenario1'].sum()\n",
    "custo_total_cenario2 = df['Custo_Cenario2'].sum()"
   ]
  },
  {
   "cell_type": "markdown",
   "metadata": {},
   "source": [
    "Passo 5: Resultados"
   ]
  },
  {
   "cell_type": "code",
   "execution_count": 51,
   "metadata": {},
   "outputs": [
    {
     "name": "stdout",
     "output_type": "stream",
     "text": [
      "Cenário 1: Estoque igual à previsão de vendas\n",
      "Custo total: R$1600.00\n"
     ]
    }
   ],
   "source": [
    "print('Cenário 1: Estoque igual à previsão de vendas')\n",
    "print(f'Custo total: R${custo_total_cenario1:.2f}')"
   ]
  },
  {
   "cell_type": "code",
   "execution_count": 52,
   "metadata": {},
   "outputs": [
    {
     "name": "stdout",
     "output_type": "stream",
     "text": [
      "Cenário 2: Estoque com 10% a mais de margem de segurança\n",
      "Custo total: R$1760.00\n"
     ]
    }
   ],
   "source": [
    "print('Cenário 2: Estoque com 10% a mais de margem de segurança')\n",
    "print(f'Custo total: R${custo_total_cenario2:.2f}')"
   ]
  },
  {
   "cell_type": "code",
   "execution_count": 53,
   "metadata": {},
   "outputs": [
    {
     "name": "stdout",
     "output_type": "stream",
     "text": [
      "\n",
      "No cenário 1 é mais vantajoso considerando os custos do estoque.\n"
     ]
    }
   ],
   "source": [
    "if custo_total_cenario1 < custo_total_cenario2:\n",
    "    print('\\nNo cenário 1 é mais vantajoso considerando os custos do estoque.')\n",
    "else:\n",
    "    print('\\nNo cenário 2 é mais vantajoso considerando os custos do estoque.')"
   ]
  }
 ],
 "metadata": {
  "kernelspec": {
   "display_name": "Python 3",
   "language": "python",
   "name": "python3"
  },
  "language_info": {
   "codemirror_mode": {
    "name": "ipython",
    "version": 3
   },
   "file_extension": ".py",
   "mimetype": "text/x-python",
   "name": "python",
   "nbconvert_exporter": "python",
   "pygments_lexer": "ipython3",
   "version": "3.12.4"
  }
 },
 "nbformat": 4,
 "nbformat_minor": 2
}
